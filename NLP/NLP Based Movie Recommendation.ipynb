{
 "cells": [
  {
   "cell_type": "markdown",
   "id": "9ea7538c-23d2-41dd-a9cb-669cfe75ef94",
   "metadata": {},
   "source": [
    "# Recommendation system using NLP"
   ]
  },
  {
   "cell_type": "markdown",
   "id": "92ca7536-ae67-4c16-9048-ae7d7211e420",
   "metadata": {},
   "source": [
    "[Data Source - Kaggle](https://www.kaggle.com/shivamb/netflix-shows)"
   ]
  },
  {
   "cell_type": "code",
   "execution_count": 2,
   "id": "b1c9fdda-7ba6-4022-ba22-9948ccd6cf57",
   "metadata": {},
   "outputs": [],
   "source": [
    "import pandas as pd\n",
    "from sklearn.metrics.pairwise import cosine_similarity\n",
    "from sklearn.feature_extraction.text import TfidfVectorizer"
   ]
  },
  {
   "cell_type": "code",
   "execution_count": 4,
   "id": "c1d37456-bdb3-4c79-88a0-47c52472dbaa",
   "metadata": {},
   "outputs": [
    {
     "name": "stdout",
     "output_type": "stream",
     "text": [
      "(8807, 12)\n"
     ]
    },
    {
     "data": {
      "text/html": [
       "<div>\n",
       "<style scoped>\n",
       "    .dataframe tbody tr th:only-of-type {\n",
       "        vertical-align: middle;\n",
       "    }\n",
       "\n",
       "    .dataframe tbody tr th {\n",
       "        vertical-align: top;\n",
       "    }\n",
       "\n",
       "    .dataframe thead th {\n",
       "        text-align: right;\n",
       "    }\n",
       "</style>\n",
       "<table border=\"1\" class=\"dataframe\">\n",
       "  <thead>\n",
       "    <tr style=\"text-align: right;\">\n",
       "      <th></th>\n",
       "      <th>show_id</th>\n",
       "      <th>type</th>\n",
       "      <th>title</th>\n",
       "      <th>director</th>\n",
       "      <th>cast</th>\n",
       "      <th>country</th>\n",
       "      <th>date_added</th>\n",
       "      <th>release_year</th>\n",
       "      <th>rating</th>\n",
       "      <th>duration</th>\n",
       "      <th>listed_in</th>\n",
       "      <th>description</th>\n",
       "    </tr>\n",
       "  </thead>\n",
       "  <tbody>\n",
       "    <tr>\n",
       "      <th>0</th>\n",
       "      <td>s1</td>\n",
       "      <td>Movie</td>\n",
       "      <td>Dick Johnson Is Dead</td>\n",
       "      <td>Kirsten Johnson</td>\n",
       "      <td>NaN</td>\n",
       "      <td>United States</td>\n",
       "      <td>September 25, 2021</td>\n",
       "      <td>2020</td>\n",
       "      <td>PG-13</td>\n",
       "      <td>90 min</td>\n",
       "      <td>Documentaries</td>\n",
       "      <td>As her father nears the end of his life, filmm...</td>\n",
       "    </tr>\n",
       "    <tr>\n",
       "      <th>1</th>\n",
       "      <td>s2</td>\n",
       "      <td>TV Show</td>\n",
       "      <td>Blood &amp; Water</td>\n",
       "      <td>NaN</td>\n",
       "      <td>Ama Qamata, Khosi Ngema, Gail Mabalane, Thaban...</td>\n",
       "      <td>South Africa</td>\n",
       "      <td>September 24, 2021</td>\n",
       "      <td>2021</td>\n",
       "      <td>TV-MA</td>\n",
       "      <td>2 Seasons</td>\n",
       "      <td>International TV Shows, TV Dramas, TV Mysteries</td>\n",
       "      <td>After crossing paths at a party, a Cape Town t...</td>\n",
       "    </tr>\n",
       "    <tr>\n",
       "      <th>2</th>\n",
       "      <td>s3</td>\n",
       "      <td>TV Show</td>\n",
       "      <td>Ganglands</td>\n",
       "      <td>Julien Leclercq</td>\n",
       "      <td>Sami Bouajila, Tracy Gotoas, Samuel Jouy, Nabi...</td>\n",
       "      <td>NaN</td>\n",
       "      <td>September 24, 2021</td>\n",
       "      <td>2021</td>\n",
       "      <td>TV-MA</td>\n",
       "      <td>1 Season</td>\n",
       "      <td>Crime TV Shows, International TV Shows, TV Act...</td>\n",
       "      <td>To protect his family from a powerful drug lor...</td>\n",
       "    </tr>\n",
       "    <tr>\n",
       "      <th>3</th>\n",
       "      <td>s4</td>\n",
       "      <td>TV Show</td>\n",
       "      <td>Jailbirds New Orleans</td>\n",
       "      <td>NaN</td>\n",
       "      <td>NaN</td>\n",
       "      <td>NaN</td>\n",
       "      <td>September 24, 2021</td>\n",
       "      <td>2021</td>\n",
       "      <td>TV-MA</td>\n",
       "      <td>1 Season</td>\n",
       "      <td>Docuseries, Reality TV</td>\n",
       "      <td>Feuds, flirtations and toilet talk go down amo...</td>\n",
       "    </tr>\n",
       "    <tr>\n",
       "      <th>4</th>\n",
       "      <td>s5</td>\n",
       "      <td>TV Show</td>\n",
       "      <td>Kota Factory</td>\n",
       "      <td>NaN</td>\n",
       "      <td>Mayur More, Jitendra Kumar, Ranjan Raj, Alam K...</td>\n",
       "      <td>India</td>\n",
       "      <td>September 24, 2021</td>\n",
       "      <td>2021</td>\n",
       "      <td>TV-MA</td>\n",
       "      <td>2 Seasons</td>\n",
       "      <td>International TV Shows, Romantic TV Shows, TV ...</td>\n",
       "      <td>In a city of coaching centers known to train I...</td>\n",
       "    </tr>\n",
       "  </tbody>\n",
       "</table>\n",
       "</div>"
      ],
      "text/plain": [
       "  show_id     type                  title         director  \\\n",
       "0      s1    Movie   Dick Johnson Is Dead  Kirsten Johnson   \n",
       "1      s2  TV Show          Blood & Water              NaN   \n",
       "2      s3  TV Show              Ganglands  Julien Leclercq   \n",
       "3      s4  TV Show  Jailbirds New Orleans              NaN   \n",
       "4      s5  TV Show           Kota Factory              NaN   \n",
       "\n",
       "                                                cast        country  \\\n",
       "0                                                NaN  United States   \n",
       "1  Ama Qamata, Khosi Ngema, Gail Mabalane, Thaban...   South Africa   \n",
       "2  Sami Bouajila, Tracy Gotoas, Samuel Jouy, Nabi...            NaN   \n",
       "3                                                NaN            NaN   \n",
       "4  Mayur More, Jitendra Kumar, Ranjan Raj, Alam K...          India   \n",
       "\n",
       "           date_added  release_year rating   duration  \\\n",
       "0  September 25, 2021          2020  PG-13     90 min   \n",
       "1  September 24, 2021          2021  TV-MA  2 Seasons   \n",
       "2  September 24, 2021          2021  TV-MA   1 Season   \n",
       "3  September 24, 2021          2021  TV-MA   1 Season   \n",
       "4  September 24, 2021          2021  TV-MA  2 Seasons   \n",
       "\n",
       "                                           listed_in  \\\n",
       "0                                      Documentaries   \n",
       "1    International TV Shows, TV Dramas, TV Mysteries   \n",
       "2  Crime TV Shows, International TV Shows, TV Act...   \n",
       "3                             Docuseries, Reality TV   \n",
       "4  International TV Shows, Romantic TV Shows, TV ...   \n",
       "\n",
       "                                         description  \n",
       "0  As her father nears the end of his life, filmm...  \n",
       "1  After crossing paths at a party, a Cape Town t...  \n",
       "2  To protect his family from a powerful drug lor...  \n",
       "3  Feuds, flirtations and toilet talk go down amo...  \n",
       "4  In a city of coaching centers known to train I...  "
      ]
     },
     "execution_count": 4,
     "metadata": {},
     "output_type": "execute_result"
    }
   ],
   "source": [
    "df = pd.read_csv(\"data/netflix_titles.csv.zip\",compression='zip', sep= ',')\n",
    "print(df.shape)\n",
    "df.head()"
   ]
  },
  {
   "cell_type": "code",
   "execution_count": 5,
   "id": "6a8e8e5e-21f5-4e44-8e52-547ecc830068",
   "metadata": {},
   "outputs": [
    {
     "data": {
      "text/plain": [
       "array(['Movie', 'TV Show'], dtype=object)"
      ]
     },
     "execution_count": 5,
     "metadata": {},
     "output_type": "execute_result"
    }
   ],
   "source": [
    "df.type.unique()"
   ]
  },
  {
   "cell_type": "code",
   "execution_count": 14,
   "id": "3c1d1fe4-5050-4251-a863-dddbdf79e2d3",
   "metadata": {},
   "outputs": [
    {
     "name": "stdout",
     "output_type": "stream",
     "text": [
      "<class 'pandas.core.frame.DataFrame'>\n",
      "RangeIndex: 8807 entries, 0 to 8806\n",
      "Data columns (total 12 columns):\n",
      " #   Column        Non-Null Count  Dtype \n",
      "---  ------        --------------  ----- \n",
      " 0   show_id       8807 non-null   object\n",
      " 1   type          8807 non-null   object\n",
      " 2   title         8807 non-null   object\n",
      " 3   director      6173 non-null   object\n",
      " 4   cast          7982 non-null   object\n",
      " 5   country       7976 non-null   object\n",
      " 6   date_added    8797 non-null   object\n",
      " 7   release_year  8807 non-null   int64 \n",
      " 8   rating        8803 non-null   object\n",
      " 9   duration      8804 non-null   object\n",
      " 10  listed_in     8807 non-null   object\n",
      " 11  description   8807 non-null   object\n",
      "dtypes: int64(1), object(11)\n",
      "memory usage: 825.8+ KB\n"
     ]
    }
   ],
   "source": [
    "df.info()"
   ]
  },
  {
   "cell_type": "code",
   "execution_count": 15,
   "id": "43e78725-cfda-4e31-b92a-51c4b00f2058",
   "metadata": {},
   "outputs": [],
   "source": [
    "df.fillna(\"NA\", inplace=True)"
   ]
  },
  {
   "cell_type": "code",
   "execution_count": 43,
   "id": "691e9316-f7eb-4bb3-9c1a-e3db4eadd415",
   "metadata": {},
   "outputs": [
    {
     "data": {
      "text/html": [
       "<div>\n",
       "<style scoped>\n",
       "    .dataframe tbody tr th:only-of-type {\n",
       "        vertical-align: middle;\n",
       "    }\n",
       "\n",
       "    .dataframe tbody tr th {\n",
       "        vertical-align: top;\n",
       "    }\n",
       "\n",
       "    .dataframe thead th {\n",
       "        text-align: right;\n",
       "    }\n",
       "</style>\n",
       "<table border=\"1\" class=\"dataframe\">\n",
       "  <thead>\n",
       "    <tr style=\"text-align: right;\">\n",
       "      <th></th>\n",
       "      <th>show_id</th>\n",
       "      <th>type</th>\n",
       "      <th>title</th>\n",
       "      <th>director</th>\n",
       "      <th>cast</th>\n",
       "      <th>country</th>\n",
       "      <th>date_added</th>\n",
       "      <th>release_year</th>\n",
       "      <th>rating</th>\n",
       "      <th>duration</th>\n",
       "      <th>listed_in</th>\n",
       "      <th>description</th>\n",
       "    </tr>\n",
       "  </thead>\n",
       "  <tbody>\n",
       "    <tr>\n",
       "      <th>0</th>\n",
       "      <td>s1</td>\n",
       "      <td>Movie</td>\n",
       "      <td>Dick Johnson Is Dead</td>\n",
       "      <td>Kirsten Johnson</td>\n",
       "      <td>NA</td>\n",
       "      <td>United States</td>\n",
       "      <td>September 25, 2021</td>\n",
       "      <td>2020</td>\n",
       "      <td>PG-13</td>\n",
       "      <td>90 min</td>\n",
       "      <td>Documentaries</td>\n",
       "      <td>As her father nears the end of his life, filmm...</td>\n",
       "    </tr>\n",
       "  </tbody>\n",
       "</table>\n",
       "</div>"
      ],
      "text/plain": [
       "  show_id   type                 title         director cast        country  \\\n",
       "0      s1  Movie  Dick Johnson Is Dead  Kirsten Johnson   NA  United States   \n",
       "\n",
       "           date_added  release_year rating duration      listed_in  \\\n",
       "0  September 25, 2021          2020  PG-13   90 min  Documentaries   \n",
       "\n",
       "                                         description  \n",
       "0  As her father nears the end of his life, filmm...  "
      ]
     },
     "execution_count": 43,
     "metadata": {},
     "output_type": "execute_result"
    }
   ],
   "source": [
    "movies = df.loc[df.type == \"Movie\"]\n",
    "movies.reset_index(drop=True, inplace=True)\n",
    "movies.head(1)"
   ]
  },
  {
   "cell_type": "code",
   "execution_count": 44,
   "id": "35c9bb02-8412-4960-bc71-60c3d594339a",
   "metadata": {},
   "outputs": [
    {
     "name": "stderr",
     "output_type": "stream",
     "text": [
      "C:\\Users\\Dakshayani\\.conda\\envs\\atlantis_anaconda_venv\\lib\\site-packages\\ipykernel_launcher.py:1: SettingWithCopyWarning: \n",
      "A value is trying to be set on a copy of a slice from a DataFrame.\n",
      "Try using .loc[row_indexer,col_indexer] = value instead\n",
      "\n",
      "See the caveats in the documentation: https://pandas.pydata.org/pandas-docs/stable/user_guide/indexing.html#returning-a-view-versus-a-copy\n",
      "  \"\"\"Entry point for launching an IPython kernel.\n"
     ]
    },
    {
     "data": {
      "text/html": [
       "<div>\n",
       "<style scoped>\n",
       "    .dataframe tbody tr th:only-of-type {\n",
       "        vertical-align: middle;\n",
       "    }\n",
       "\n",
       "    .dataframe tbody tr th {\n",
       "        vertical-align: top;\n",
       "    }\n",
       "\n",
       "    .dataframe thead th {\n",
       "        text-align: right;\n",
       "    }\n",
       "</style>\n",
       "<table border=\"1\" class=\"dataframe\">\n",
       "  <thead>\n",
       "    <tr style=\"text-align: right;\">\n",
       "      <th></th>\n",
       "      <th>show_id</th>\n",
       "      <th>type</th>\n",
       "      <th>title</th>\n",
       "      <th>director</th>\n",
       "      <th>cast</th>\n",
       "      <th>country</th>\n",
       "      <th>date_added</th>\n",
       "      <th>release_year</th>\n",
       "      <th>rating</th>\n",
       "      <th>duration</th>\n",
       "      <th>listed_in</th>\n",
       "      <th>description</th>\n",
       "      <th>target</th>\n",
       "    </tr>\n",
       "  </thead>\n",
       "  <tbody>\n",
       "    <tr>\n",
       "      <th>0</th>\n",
       "      <td>s1</td>\n",
       "      <td>Movie</td>\n",
       "      <td>Dick Johnson Is Dead</td>\n",
       "      <td>Kirsten Johnson</td>\n",
       "      <td>NA</td>\n",
       "      <td>United States</td>\n",
       "      <td>September 25, 2021</td>\n",
       "      <td>2020</td>\n",
       "      <td>PG-13</td>\n",
       "      <td>90 min</td>\n",
       "      <td>Documentaries</td>\n",
       "      <td>As her father nears the end of his life, filmm...</td>\n",
       "      <td>Dick Johnson Is Dead Kirsten Johnson As her fa...</td>\n",
       "    </tr>\n",
       "  </tbody>\n",
       "</table>\n",
       "</div>"
      ],
      "text/plain": [
       "  show_id   type                 title         director cast        country  \\\n",
       "0      s1  Movie  Dick Johnson Is Dead  Kirsten Johnson   NA  United States   \n",
       "\n",
       "           date_added  release_year rating duration      listed_in  \\\n",
       "0  September 25, 2021          2020  PG-13   90 min  Documentaries   \n",
       "\n",
       "                                         description  \\\n",
       "0  As her father nears the end of his life, filmm...   \n",
       "\n",
       "                                              target  \n",
       "0  Dick Johnson Is Dead Kirsten Johnson As her fa...  "
      ]
     },
     "execution_count": 44,
     "metadata": {},
     "output_type": "execute_result"
    }
   ],
   "source": [
    "movies['target'] = movies['title'] +' '+ movies['director'] + ' ' + movies['description']  + ' ' + movies['listed_in']+ ' ' + movies['cast']\n",
    "movies.head(1)"
   ]
  },
  {
   "cell_type": "code",
   "execution_count": 45,
   "id": "1fab7f26-6a73-4a58-861e-f6546e697729",
   "metadata": {},
   "outputs": [
    {
     "data": {
      "text/plain": [
       "(6131, 1000)"
      ]
     },
     "execution_count": 45,
     "metadata": {},
     "output_type": "execute_result"
    }
   ],
   "source": [
    "movie_vectorizer = TfidfVectorizer(max_features=1000)\n",
    "movie_matrix = movie_vectorizer.fit_transform(movies.target.values)\n",
    "movie_matrix.shape"
   ]
  },
  {
   "cell_type": "code",
   "execution_count": 46,
   "id": "965c8272-aba0-4a5e-a090-081170762177",
   "metadata": {},
   "outputs": [
    {
     "name": "stdout",
     "output_type": "stream",
     "text": [
      "(6131, 6131)\n",
      "<class 'numpy.ndarray'>\n"
     ]
    },
    {
     "data": {
      "text/plain": [
       "(6131, 6131)"
      ]
     },
     "execution_count": 46,
     "metadata": {},
     "output_type": "execute_result"
    }
   ],
   "source": [
    "similarity_matrix = cosine_similarity(movie_matrix)\n",
    "print(similarity_matrix.shape)\n",
    "print(type(similarity_matrix))\n",
    "similarity_df = pd.DataFrame(similarity_matrix)\n",
    "similarity_df.shape"
   ]
  },
  {
   "cell_type": "code",
   "execution_count": 64,
   "id": "2108e3aa-cedd-4d57-82ac-fa5d5c04a227",
   "metadata": {},
   "outputs": [
    {
     "data": {
      "text/plain": [
       "0                   Dick Johnson Is Dead\n",
       "1       My Little Pony: A New Generation\n",
       "2                                Sankofa\n",
       "3                           The Starling\n",
       "4                           Je Suis Karl\n",
       "                      ...               \n",
       "6126                             Zinzana\n",
       "6127                              Zodiac\n",
       "6128                          Zombieland\n",
       "6129                                Zoom\n",
       "6130                              Zubaan\n",
       "Name: title, Length: 6131, dtype: object"
      ]
     },
     "execution_count": 64,
     "metadata": {},
     "output_type": "execute_result"
    }
   ],
   "source": [
    "movies.title #.sample(2)"
   ]
  },
  {
   "cell_type": "code",
   "execution_count": 65,
   "id": "d934a58d-4e1d-41da-a95c-04ef85486b92",
   "metadata": {},
   "outputs": [
    {
     "data": {
      "text/plain": [
       "6128"
      ]
     },
     "execution_count": 65,
     "metadata": {},
     "output_type": "execute_result"
    }
   ],
   "source": [
    "tgt_movie = \"Zombieland\"\n",
    "tgt_idx = movies[movies.title == tgt_movie].index[0]\n",
    "tgt_idx"
   ]
  },
  {
   "cell_type": "code",
   "execution_count": 66,
   "id": "68f92074-07a5-4cd8-837a-9b57a7be5d14",
   "metadata": {},
   "outputs": [
    {
     "data": {
      "text/plain": [
       "6128    1.000000\n",
       "5639    0.290704\n",
       "3793    0.285768\n",
       "4564    0.241797\n",
       "5575    0.235897\n",
       "          ...   \n",
       "1457    0.000000\n",
       "2221    0.000000\n",
       "4507    0.000000\n",
       "3235    0.000000\n",
       "5749    0.000000\n",
       "Name: 6128, Length: 6131, dtype: float64"
      ]
     },
     "execution_count": 66,
     "metadata": {},
     "output_type": "execute_result"
    }
   ],
   "source": [
    "similarity_df[tgt_idx].sort_values(ascending=False)"
   ]
  },
  {
   "cell_type": "code",
   "execution_count": 67,
   "id": "bb578e14-9ed3-4c2a-b7cc-cbdbb9a551ff",
   "metadata": {},
   "outputs": [
    {
     "data": {
      "text/plain": [
       "array([6128, 5639, 3793, ..., 4507, 3235, 5749], dtype=int64)"
      ]
     },
     "execution_count": 67,
     "metadata": {},
     "output_type": "execute_result"
    }
   ],
   "source": [
    "similarity_df[tgt_idx].sort_values(ascending=False).index.values"
   ]
  },
  {
   "cell_type": "code",
   "execution_count": 68,
   "id": "14b93968-b063-49fb-840c-5083b75e0dac",
   "metadata": {},
   "outputs": [
    {
     "data": {
      "text/plain": [
       "array([5639, 3793, 4564, 5575, 5825], dtype=int64)"
      ]
     },
     "execution_count": 68,
     "metadata": {},
     "output_type": "execute_result"
    }
   ],
   "source": [
    "top_5_movie_match_index = similarity_df[tgt_idx].sort_values(ascending=False).index.values[1:6]\n",
    "top_5_movie_match_index"
   ]
  },
  {
   "cell_type": "code",
   "execution_count": 69,
   "id": "42033e99-7da4-4609-a7db-9e63f8744d0a",
   "metadata": {},
   "outputs": [
    {
     "name": "stdout",
     "output_type": "stream",
     "text": [
      "The Bill Murray Stories: Life Lessons Learned From a Mythical Man\n",
      "A Very Murray Christmas\n",
      "Get Smart\n",
      "Superbad\n",
      "The New Romantic\n"
     ]
    }
   ],
   "source": [
    "top_5_movie_match_index = movies.iloc[top_5_movie_match_index]['title']\n",
    "print(\"\\n\".join(top_5_movie_match_index))"
   ]
  }
 ],
 "metadata": {
  "kernelspec": {
   "display_name": "atlantis_anaconda_venv",
   "language": "python",
   "name": "atlantis_anaconda_venv"
  },
  "language_info": {
   "codemirror_mode": {
    "name": "ipython",
    "version": 3
   },
   "file_extension": ".py",
   "mimetype": "text/x-python",
   "name": "python",
   "nbconvert_exporter": "python",
   "pygments_lexer": "ipython3",
   "version": "3.6.10"
  }
 },
 "nbformat": 4,
 "nbformat_minor": 5
}
