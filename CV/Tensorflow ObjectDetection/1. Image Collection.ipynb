{
 "cells": [
  {
   "cell_type": "markdown",
   "metadata": {},
   "source": [
    "# 1. Import Dependencies"
   ]
  },
  {
   "cell_type": "code",
   "execution_count": null,
   "metadata": {},
   "outputs": [],
   "source": [
    "# !pip install opencv-python"
   ]
  },
  {
   "cell_type": "code",
   "execution_count": 1,
   "metadata": {},
   "outputs": [],
   "source": [
    "# Import opencv\n",
    "import cv2 \n",
    "\n",
    "# Import uuid\n",
    "import uuid\n",
    "\n",
    "# Import Operating System\n",
    "import os\n",
    "\n",
    "# Import time\n",
    "import time"
   ]
  },
  {
   "cell_type": "markdown",
   "metadata": {},
   "source": [
    "# 2. Define Images to Collect"
   ]
  },
  {
   "cell_type": "code",
   "execution_count": 2,
   "metadata": {},
   "outputs": [],
   "source": [
    "labels = ['thumbsup', 'thumbsdown', 'thankyou', 'livelong']\n",
    "number_imgs = 5"
   ]
  },
  {
   "cell_type": "markdown",
   "metadata": {},
   "source": [
    "# 3. Setup Folders "
   ]
  },
  {
   "cell_type": "code",
   "execution_count": 12,
   "metadata": {},
   "outputs": [
    {
     "name": "stdout",
     "output_type": "stream",
     "text": [
      "E:\\TFOD\n"
     ]
    },
    {
     "data": {
      "text/plain": [
       "'E:\\\\TFOD\\\\Tensorflow\\\\workspace\\\\images\\\\collectedimages'"
      ]
     },
     "execution_count": 12,
     "metadata": {},
     "output_type": "execute_result"
    }
   ],
   "source": [
    "new_dir = \"E:\\\\TFOD\"\n",
    "# os.mkdir(new_dir)\n",
    "os.chdir(new_dir)\n",
    "\n",
    "CURRENT_DIR = os.getcwd()\n",
    "print(CURRENT_DIR)\n",
    "IMAGES_PATH = os.path.join(CURRENT_DIR, 'Tensorflow', 'workspace', 'images', 'collectedimages')\n",
    "IMAGES_PATH = IMAGES_PATH.replace(\" \",\"_\")\n",
    "IMAGES_PATH"
   ]
  },
  {
   "cell_type": "code",
   "execution_count": 14,
   "metadata": {},
   "outputs": [
    {
     "data": {
      "text/plain": [
       "False"
      ]
     },
     "execution_count": 14,
     "metadata": {},
     "output_type": "execute_result"
    }
   ],
   "source": [
    "os.path.exists(IMAGES_PATH)"
   ]
  },
  {
   "cell_type": "code",
   "execution_count": 15,
   "metadata": {},
   "outputs": [],
   "source": [
    "if not os.path.exists(IMAGES_PATH):\n",
    "    if os.name == 'posix':  # Checks os - Linux\n",
    "        !mkdir -p {IMAGES_PATH}\n",
    "    if os.name == 'nt':     # Checks os - Windows\n",
    "         !mkdir {IMAGES_PATH}\n",
    "else:\n",
    "    print(\"1\")\n",
    "            \n",
    "for label in labels:\n",
    "    path = os.path.join(IMAGES_PATH, label)\n",
    "    if not os.path.exists(path):\n",
    "        !mkdir {path}"
   ]
  },
  {
   "cell_type": "markdown",
   "metadata": {},
   "source": [
    "# 4. Capture Images"
   ]
  },
  {
   "cell_type": "code",
   "execution_count": 19,
   "metadata": {},
   "outputs": [
    {
     "name": "stdout",
     "output_type": "stream",
     "text": [
      "Collecting images for thumbsup\n",
      "Collecting image 0\n",
      "Collecting image 1\n",
      "Collecting image 2\n",
      "Collecting image 3\n",
      "Collecting image 4\n",
      "Collecting images for thumbsdown\n",
      "Collecting image 0\n",
      "Collecting image 1\n",
      "Collecting image 2\n",
      "Collecting image 3\n",
      "Collecting image 4\n",
      "Collecting images for thankyou\n",
      "Collecting image 0\n",
      "Collecting image 1\n",
      "Collecting image 2\n",
      "Collecting image 3\n",
      "Collecting image 4\n",
      "Collecting images for livelong\n",
      "Collecting image 0\n",
      "Collecting image 1\n",
      "Collecting image 2\n",
      "Collecting image 3\n",
      "Collecting image 4\n"
     ]
    }
   ],
   "source": [
    "for label in labels:\n",
    "    cap = cv2.VideoCapture(0)\n",
    "    print('Collecting images for {}'.format(label))\n",
    "    time.sleep(3)\n",
    "    for imgnum in range(number_imgs):\n",
    "        print('Collecting image {}'.format(imgnum))\n",
    "        ret, frame = cap.read()\n",
    "        imgname = os.path.join(IMAGES_PATH,label,label+'.'+'{}.jpg'.format(str(uuid.uuid1())))\n",
    "        cv2.imwrite(imgname, frame)\n",
    "        cv2.imshow('frame', frame)\n",
    "        time.sleep(1)\n",
    "\n",
    "        if cv2.waitKey(1) & 0xFF == ord('q'):\n",
    "            break\n",
    "cap.release()\n",
    "cv2.destroyAllWindows()"
   ]
  },
  {
   "cell_type": "markdown",
   "metadata": {},
   "source": [
    "# 5. Image Labelling"
   ]
  },
  {
   "cell_type": "code",
   "execution_count": 20,
   "metadata": {},
   "outputs": [],
   "source": [
    "# !pip install --upgrade pyqt5 lxml"
   ]
  },
  {
   "cell_type": "code",
   "execution_count": 22,
   "metadata": {},
   "outputs": [
    {
     "data": {
      "text/plain": [
       "'E:\\\\TFOD\\\\Tensorflow\\\\labelimg'"
      ]
     },
     "execution_count": 22,
     "metadata": {},
     "output_type": "execute_result"
    }
   ],
   "source": [
    "LABELIMG_PATH = os.path.join(new_direw_dir,'Tensorflow', 'labelimg')\n",
    "LABELIMG_PATH"
   ]
  },
  {
   "cell_type": "code",
   "execution_count": 23,
   "metadata": {},
   "outputs": [
    {
     "name": "stderr",
     "output_type": "stream",
     "text": [
      "Cloning into 'E:\\TFOD\\Tensorflow\\labelimg'...\n"
     ]
    }
   ],
   "source": [
    "if not os.path.exists(LABELIMG_PATH):\n",
    "    !mkdir {LABELIMG_PATH}\n",
    "    !git clone https://github.com/tzutalin/labelImg {LABELIMG_PATH}"
   ]
  },
  {
   "cell_type": "code",
   "execution_count": 27,
   "metadata": {},
   "outputs": [],
   "source": [
    "if os.name == 'posix':\n",
    "    !cd {LABELIMG_PATH} && !make qt5py3\n",
    "if os.name =='nt':\n",
    "    !cd {LABELIMG_PATH} && pyrcc5 -o libs/resources.py resources.qrc"
   ]
  },
  {
   "cell_type": "code",
   "execution_count": 28,
   "metadata": {
    "scrolled": true,
    "tags": []
   },
   "outputs": [
    {
     "name": "stdout",
     "output_type": "stream",
     "text": [
      "Cancel creation.\n",
      "Cancel creation.\n",
      "Image:E:\\TFOD\\Tensorflow\\workspace\\images\\collectedimages\\thumbsup\\thumbsup.7718759c-6015-11ec-80f4-802bf9aea7b6.jpg -> Annotation:E:/TFOD/Tensorflow/workspace/images/collectedimages/thumbsup/thumbsup.7718759c-6015-11ec-80f4-802bf9aea7b6.xml\n",
      "Cancel creation.\n",
      "Image:E:\\TFOD\\Tensorflow\\workspace\\images\\collectedimages\\thumbsup\\thumbsup.78521b98-6015-11ec-aa62-802bf9aea7b6.jpg -> Annotation:E:/TFOD/Tensorflow/workspace/images/collectedimages/thumbsup/thumbsup.78521b98-6015-11ec-aa62-802bf9aea7b6.xml\n",
      "Image:E:\\TFOD\\Tensorflow\\workspace\\images\\collectedimages\\thumbsup\\thumbsup.7679d0d4-6015-11ec-988b-802bf9aea7b6.jpg -> Annotation:E:/TFOD/Tensorflow/workspace/images/collectedimages/thumbsup/thumbsup.7679d0d4-6015-11ec-988b-802bf9aea7b6.xml\n",
      "Image:E:\\TFOD\\Tensorflow\\workspace\\images\\collectedimages\\thumbsup\\thumbsup.78f104e6-6015-11ec-b31f-802bf9aea7b6.jpg -> Annotation:E:/TFOD/Tensorflow/workspace/images/collectedimages/thumbsup/thumbsup.78f104e6-6015-11ec-b31f-802bf9aea7b6.xml\n",
      "Image:E:\\TFOD\\Tensorflow\\workspace\\images\\collectedimages\\thumbsup\\thumbsup.77b560fa-6015-11ec-bcf9-802bf9aea7b6.jpg -> Annotation:E:/TFOD/Tensorflow/workspace/images/collectedimages/thumbsup/thumbsup.77b560fa-6015-11ec-bcf9-802bf9aea7b6.xml\n",
      "Image:E:\\TFOD\\Tensorflow\\workspace\\images\\collectedimages\\thumbsdown\\thumbsdown.7c06a334-6015-11ec-9f31-802bf9aea7b6.jpg -> Annotation:E:/TFOD/Tensorflow/workspace/images/collectedimages/thumbsdown/thumbsdown.7c06a334-6015-11ec-9f31-802bf9aea7b6.xml\n",
      "Image:E:\\TFOD\\Tensorflow\\workspace\\images\\collectedimages\\thumbsdown\\thumbsdown.7ca33dba-6015-11ec-a713-802bf9aea7b6.jpg -> Annotation:E:/TFOD/Tensorflow/workspace/images/collectedimages/thumbsdown/thumbsdown.7ca33dba-6015-11ec-a713-802bf9aea7b6.xml\n",
      "Image:E:\\TFOD\\Tensorflow\\workspace\\images\\collectedimages\\thumbsdown\\thumbsdown.7d4137e8-6015-11ec-9eae-802bf9aea7b6.jpg -> Annotation:E:/TFOD/Tensorflow/workspace/images/collectedimages/thumbsdown/thumbsdown.7d4137e8-6015-11ec-9eae-802bf9aea7b6.xml\n",
      "Image:E:\\TFOD\\Tensorflow\\workspace\\images\\collectedimages\\thumbsdown\\thumbsdown.7ddddab4-6015-11ec-83aa-802bf9aea7b6.jpg -> Annotation:E:/TFOD/Tensorflow/workspace/images/collectedimages/thumbsdown/thumbsdown.7ddddab4-6015-11ec-83aa-802bf9aea7b6.xml\n",
      "Image:E:\\TFOD\\Tensorflow\\workspace\\images\\collectedimages\\thumbsdown\\thumbsdown.7e79ccfa-6015-11ec-81ee-802bf9aea7b6.jpg -> Annotation:E:/TFOD/Tensorflow/workspace/images/collectedimages/thumbsdown/thumbsdown.7e79ccfa-6015-11ec-81ee-802bf9aea7b6.xml\n",
      "Image:E:\\TFOD\\Tensorflow\\workspace\\images\\collectedimages\\thankyou\\thankyou.83b09330-6015-11ec-85d2-802bf9aea7b6.jpg -> Annotation:E:/TFOD/Tensorflow/workspace/images/collectedimages/thankyou/thankyou.83b09330-6015-11ec-85d2-802bf9aea7b6.xml\n",
      "Image:E:\\TFOD\\Tensorflow\\workspace\\images\\collectedimages\\thankyou\\thankyou.818ebcb6-6015-11ec-b56b-802bf9aea7b6.jpg -> Annotation:E:/TFOD/Tensorflow/workspace/images/collectedimages/thankyou/thankyou.818ebcb6-6015-11ec-b56b-802bf9aea7b6.xml\n",
      "Image:E:\\TFOD\\Tensorflow\\workspace\\images\\collectedimages\\thankyou\\thankyou.8314b4a8-6015-11ec-897e-802bf9aea7b6.jpg -> Annotation:E:/TFOD/Tensorflow/workspace/images/collectedimages/thankyou/thankyou.8314b4a8-6015-11ec-897e-802bf9aea7b6.xml\n",
      "Image:E:\\TFOD\\Tensorflow\\workspace\\images\\collectedimages\\thankyou\\thankyou.827918b4-6015-11ec-932e-802bf9aea7b6.jpg -> Annotation:E:/TFOD/Tensorflow/workspace/images/collectedimages/thankyou/thankyou.827918b4-6015-11ec-932e-802bf9aea7b6.xml\n",
      "Image:E:\\TFOD\\Tensorflow\\workspace\\images\\collectedimages\\thankyou\\thankyou.845375be-6015-11ec-b186-802bf9aea7b6.jpg -> Annotation:E:/TFOD/Tensorflow/workspace/images/collectedimages/thankyou/thankyou.845375be-6015-11ec-b186-802bf9aea7b6.xml\n",
      "Cancel creation.\n",
      "Image:E:\\TFOD\\Tensorflow\\workspace\\images\\collectedimages\\livelong\\livelong.8a1e9228-6015-11ec-8abe-802bf9aea7b6.jpg -> Annotation:E:/TFOD/Tensorflow/workspace/images/collectedimages/livelong/livelong.8a1e9228-6015-11ec-8abe-802bf9aea7b6.xml\n",
      "Image:E:\\TFOD\\Tensorflow\\workspace\\images\\collectedimages\\livelong\\livelong.88a12522-6015-11ec-bb66-802bf9aea7b6.jpg -> Annotation:E:/TFOD/Tensorflow/workspace/images/collectedimages/livelong/livelong.88a12522-6015-11ec-bb66-802bf9aea7b6.xml\n",
      "Image:E:\\TFOD\\Tensorflow\\workspace\\images\\collectedimages\\livelong\\livelong.897f10d0-6015-11ec-a8f1-802bf9aea7b6.jpg -> Annotation:E:/TFOD/Tensorflow/workspace/images/collectedimages/livelong/livelong.897f10d0-6015-11ec-a8f1-802bf9aea7b6.xml\n",
      "Image:E:\\TFOD\\Tensorflow\\workspace\\images\\collectedimages\\livelong\\livelong.87678ff8-6015-11ec-a463-802bf9aea7b6.jpg -> Annotation:E:/TFOD/Tensorflow/workspace/images/collectedimages/livelong/livelong.87678ff8-6015-11ec-a463-802bf9aea7b6.xml\n",
      "Image:E:\\TFOD\\Tensorflow\\workspace\\images\\collectedimages\\livelong\\livelong.88042202-6015-11ec-b03b-802bf9aea7b6.jpg -> Annotation:E:/TFOD/Tensorflow/workspace/images/collectedimages/livelong/livelong.88042202-6015-11ec-b03b-802bf9aea7b6.xml\n"
     ]
    }
   ],
   "source": [
    "!cd {LABELIMG_PATH} && python labelImg.py"
   ]
  },
  {
   "cell_type": "markdown",
   "metadata": {},
   "source": [
    "# 6. Move them into a Training and Testing Partition"
   ]
  },
  {
   "cell_type": "markdown",
   "metadata": {},
   "source": [
    "# OPTIONAL - 7. Compress them for Colab Training"
   ]
  },
  {
   "cell_type": "code",
   "execution_count": 29,
   "metadata": {},
   "outputs": [],
   "source": [
    "TRAIN_PATH = os.path.join(new_dir,'Tensorflow', 'workspace', 'images', 'train')\n",
    "TEST_PATH = os.path.join(new_dir,'Tensorflow', 'workspace', 'images', 'test')\n",
    "ARCHIVE_PATH = os.path.join(new_dir,'Tensorflow', 'workspace', 'images', 'archive.tar.gz')"
   ]
  },
  {
   "cell_type": "code",
   "execution_count": 30,
   "metadata": {},
   "outputs": [
    {
     "name": "stderr",
     "output_type": "stream",
     "text": [
      "tar: Removing leading drive letter from member names\n"
     ]
    }
   ],
   "source": [
    "!tar -czf {ARCHIVE_PATH} {TRAIN_PATH} {TEST_PATH}"
   ]
  },
  {
   "cell_type": "code",
   "execution_count": null,
   "metadata": {},
   "outputs": [],
   "source": []
  }
 ],
 "metadata": {
  "kernelspec": {
   "display_name": "tf_od",
   "language": "python",
   "name": "tf_od"
  },
  "language_info": {
   "codemirror_mode": {
    "name": "ipython",
    "version": 3
   },
   "file_extension": ".py",
   "mimetype": "text/x-python",
   "name": "python",
   "nbconvert_exporter": "python",
   "pygments_lexer": "ipython3",
   "version": "3.7.6"
  }
 },
 "nbformat": 4,
 "nbformat_minor": 4
}
